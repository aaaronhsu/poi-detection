{
 "cells": [
  {
   "attachments": {},
   "cell_type": "markdown",
   "metadata": {},
   "source": [
    "# Import Packages"
   ]
  },
  {
   "cell_type": "code",
   "execution_count": null,
   "metadata": {},
   "outputs": [],
   "source": [
    "import torch\n",
    "import utils"
   ]
  },
  {
   "attachments": {},
   "cell_type": "markdown",
   "metadata": {},
   "source": [
    "## Train YOLO on poi images\n",
    "\n",
    "Starts training using the weights in yolov5s.pt"
   ]
  },
  {
   "cell_type": "code",
   "execution_count": 7,
   "metadata": {},
   "outputs": [
    {
     "name": "stdout",
     "output_type": "stream",
     "text": [
      "^C\n",
      "Traceback (most recent call last):\n",
      "  File \"/Users/andrewjuang/Coding/poi-detection/yolov5/train.py\", line 43, in <module>\n",
      "    import val as validate  # for end-of-epoch mAP\n",
      "    ^^^^^^^^^^^^^^^^^^^^^^\n",
      "  File \"/Users/andrewjuang/Coding/poi-detection/yolov5/val.py\", line 39, in <module>\n",
      "    from models.common import DetectMultiBackend\n",
      "  File \"/Users/andrewjuang/Coding/poi-detection/yolov5/models/common.py\", line 28, in <module>\n",
      "    from utils.dataloaders import exif_transpose, letterbox\n",
      "  File \"/Users/andrewjuang/Coding/poi-detection/yolov5/utils/dataloaders.py\", line 31, in <module>\n",
      "    from utils.augmentations import (Albumentations, augment_hsv, classify_albumentations, classify_transforms, copy_paste,\n",
      "  File \"/Users/andrewjuang/Coding/poi-detection/yolov5/utils/augmentations.py\", line 15, in <module>\n",
      "    from utils.general import LOGGER, check_version, colorstr, resample_segments, segment2box, xywhn2xyxy\n",
      "  File \"/Users/andrewjuang/Coding/poi-detection/yolov5/utils/general.py\", line 1105, in <module>\n",
      "    if Path(inspect.stack()[0].filename).parent.parent.as_posix() in inspect.stack()[-1].filename:\n",
      "                                                                     ^^^^^^^^^^^^^^^\n",
      "  File \"/opt/homebrew/Cellar/python@3.11/3.11.3/Frameworks/Python.framework/Versions/3.11/lib/python3.11/inspect.py\", line 1755, in stack\n",
      "    return getouterframes(sys._getframe(1), context)\n",
      "           ^^^^^^^^^^^^^^^^^^^^^^^^^^^^^^^^^^^^^^^^^\n",
      "  File \"/opt/homebrew/Cellar/python@3.11/3.11.3/Frameworks/Python.framework/Versions/3.11/lib/python3.11/inspect.py\", line 1730, in getouterframes\n",
      "    traceback_info = getframeinfo(frame, context)\n",
      "                     ^^^^^^^^^^^^^^^^^^^^^^^^^^^^\n",
      "  File \"/opt/homebrew/Cellar/python@3.11/3.11.3/Frameworks/Python.framework/Versions/3.11/lib/python3.11/inspect.py\", line 1692, in getframeinfo\n",
      "    lines, lnum = findsource(frame)\n",
      "                  ^^^^^^^^^^^^^^^^^\n",
      "  File \"/opt/homebrew/Cellar/python@3.11/3.11.3/Frameworks/Python.framework/Versions/3.11/lib/python3.11/inspect.py\", line 1063, in findsource\n",
      "    file = getsourcefile(object)\n",
      "           ^^^^^^^^^^^^^^^^^^^^^\n",
      "  File \"/opt/homebrew/Cellar/python@3.11/3.11.3/Frameworks/Python.framework/Versions/3.11/lib/python3.11/inspect.py\", line 952, in getsourcefile\n",
      "    module = getmodule(object, filename)\n",
      "             ^^^^^^^^^^^^^^^^^^^^^^^^^^^\n",
      "  File \"/opt/homebrew/Cellar/python@3.11/3.11.3/Frameworks/Python.framework/Versions/3.11/lib/python3.11/inspect.py\", line 992, in getmodule\n",
      "    if ismodule(module) and hasattr(module, '__file__'):\n",
      "                            ^^^^^^^^^^^^^^^^^^^^^^^^^^^\n",
      "KeyboardInterrupt\n"
     ]
    }
   ],
   "source": [
    "# Train YOLOv5s on poi for 3 epochs\n",
    "!python3 train.py --img 960 --batch 4 --epochs 200 --data ALL.yaml --weights other-weights/ALL.pt --cache"
   ]
  },
  {
   "cell_type": "code",
   "execution_count": 21,
   "metadata": {},
   "outputs": [
    {
     "name": "stdout",
     "output_type": "stream",
     "text": [
      "\u001b[34m\u001b[1mtrack: \u001b[0mweights=['other-weights/ALL.pt'], source=../utility/IMG_6629.mp4, data=data/coco128.yaml, imgsz=[960, 960], conf_thres=0.5, iou_thres=0.45, max_det=1000, device=, view_img=False, save_txt=True, save_conf=False, save_crop=False, nosave=False, classes=None, agnostic_nms=False, augment=False, visualize=False, update=False, project=runs/detect, name=exp, exist_ok=False, line_thickness=3, hide_labels=False, hide_conf=False, half=False, dnn=False, vid_stride=1\n",
      "\u001b[31m\u001b[1mrequirements:\u001b[0m /opt/homebrew/lib/python3.11/site-packages/requirements.txt not found, check failed.\n",
      "YOLOv5 🚀 2023-5-15 Python-3.11.3 torch-2.0.1 CPU\n",
      "\n",
      "Fusing layers... \n",
      "Model summary: 157 layers, 7015519 parameters, 0 gradients, 15.8 GFLOPs\n",
      "video 1/1 (1/44) /Users/andrewjuang/Coding/poi-detection/utility/IMG_6629.mp4: 960x544 (no detections), 149.9ms\n",
      "2 hands, \n",
      "video 1/1 (2/44) /Users/andrewjuang/Coding/poi-detection/utility/IMG_6629.mp4: 960x544 2 hands, 129.8ms\n",
      "1 hand, \n",
      "video 1/1 (3/44) /Users/andrewjuang/Coding/poi-detection/utility/IMG_6629.mp4: 960x544 1 hand, 123.4ms\n",
      "2 hands, \n",
      "video 1/1 (4/44) /Users/andrewjuang/Coding/poi-detection/utility/IMG_6629.mp4: 960x544 2 hands, 127.3ms\n",
      "2 hands, \n",
      "video 1/1 (5/44) /Users/andrewjuang/Coding/poi-detection/utility/IMG_6629.mp4: 960x544 2 hands, 122.6ms\n",
      "1 poi, \n",
      "video 1/1 (6/44) /Users/andrewjuang/Coding/poi-detection/utility/IMG_6629.mp4: 960x544 1 poi, 125.1ms\n",
      "1 hand, \n",
      "video 1/1 (7/44) /Users/andrewjuang/Coding/poi-detection/utility/IMG_6629.mp4: 960x544 1 hand, 140.2ms\n",
      "1 hand, \n",
      "video 1/1 (8/44) /Users/andrewjuang/Coding/poi-detection/utility/IMG_6629.mp4: 960x544 1 hand, 123.8ms\n",
      "1 hand, \n",
      "video 1/1 (9/44) /Users/andrewjuang/Coding/poi-detection/utility/IMG_6629.mp4: 960x544 1 hand, 123.5ms\n",
      "1 hand, \n",
      "video 1/1 (10/44) /Users/andrewjuang/Coding/poi-detection/utility/IMG_6629.mp4: 960x544 1 hand, 129.2ms\n",
      "video 1/1 (11/44) /Users/andrewjuang/Coding/poi-detection/utility/IMG_6629.mp4: 960x544 (no detections), 150.6ms\n",
      "video 1/1 (12/44) /Users/andrewjuang/Coding/poi-detection/utility/IMG_6629.mp4: 960x544 (no detections), 121.5ms\n",
      "video 1/1 (13/44) /Users/andrewjuang/Coding/poi-detection/utility/IMG_6629.mp4: 960x544 (no detections), 125.8ms\n",
      "video 1/1 (14/44) /Users/andrewjuang/Coding/poi-detection/utility/IMG_6629.mp4: 960x544 (no detections), 123.8ms\n",
      "1 hand, \n",
      "video 1/1 (15/44) /Users/andrewjuang/Coding/poi-detection/utility/IMG_6629.mp4: 960x544 1 hand, 120.5ms\n",
      "1 poi, \n",
      "2 hands, \n",
      "video 1/1 (16/44) /Users/andrewjuang/Coding/poi-detection/utility/IMG_6629.mp4: 960x544 1 poi, 2 hands, 124.2ms\n",
      "1 poi, \n",
      "1 hand, \n",
      "video 1/1 (17/44) /Users/andrewjuang/Coding/poi-detection/utility/IMG_6629.mp4: 960x544 1 poi, 1 hand, 122.4ms\n",
      "1 hand, \n",
      "video 1/1 (18/44) /Users/andrewjuang/Coding/poi-detection/utility/IMG_6629.mp4: 960x544 1 hand, 121.1ms\n",
      "2 hands, \n",
      "video 1/1 (19/44) /Users/andrewjuang/Coding/poi-detection/utility/IMG_6629.mp4: 960x544 2 hands, 123.2ms\n",
      "1 hand, \n",
      "video 1/1 (20/44) /Users/andrewjuang/Coding/poi-detection/utility/IMG_6629.mp4: 960x544 1 hand, 139.8ms\n",
      "2 hands, \n",
      "video 1/1 (21/44) /Users/andrewjuang/Coding/poi-detection/utility/IMG_6629.mp4: 960x544 2 hands, 125.8ms\n",
      "2 hands, \n",
      "video 1/1 (22/44) /Users/andrewjuang/Coding/poi-detection/utility/IMG_6629.mp4: 960x544 2 hands, 184.6ms\n",
      "1 poi, \n",
      "1 hand, \n",
      "video 1/1 (23/44) /Users/andrewjuang/Coding/poi-detection/utility/IMG_6629.mp4: 960x544 1 poi, 1 hand, 121.4ms\n",
      "1 hand, \n",
      "video 1/1 (24/44) /Users/andrewjuang/Coding/poi-detection/utility/IMG_6629.mp4: 960x544 1 hand, 133.7ms\n",
      "video 1/1 (25/44) /Users/andrewjuang/Coding/poi-detection/utility/IMG_6629.mp4: 960x544 (no detections), 123.4ms\n",
      "1 poi, \n",
      "2 hands, \n",
      "video 1/1 (26/44) /Users/andrewjuang/Coding/poi-detection/utility/IMG_6629.mp4: 960x544 1 poi, 2 hands, 130.4ms\n",
      "1 hand, \n",
      "video 1/1 (27/44) /Users/andrewjuang/Coding/poi-detection/utility/IMG_6629.mp4: 960x544 1 hand, 125.5ms\n",
      "video 1/1 (28/44) /Users/andrewjuang/Coding/poi-detection/utility/IMG_6629.mp4: 960x544 (no detections), 131.7ms\n",
      "video 1/1 (29/44) /Users/andrewjuang/Coding/poi-detection/utility/IMG_6629.mp4: 960x544 (no detections), 124.6ms\n",
      "video 1/1 (30/44) /Users/andrewjuang/Coding/poi-detection/utility/IMG_6629.mp4: 960x544 (no detections), 123.0ms\n",
      "video 1/1 (31/44) /Users/andrewjuang/Coding/poi-detection/utility/IMG_6629.mp4: 960x544 (no detections), 122.4ms\n",
      "video 1/1 (32/44) /Users/andrewjuang/Coding/poi-detection/utility/IMG_6629.mp4: 960x544 (no detections), 123.6ms\n",
      "1 hand, \n",
      "video 1/1 (33/44) /Users/andrewjuang/Coding/poi-detection/utility/IMG_6629.mp4: 960x544 1 hand, 123.0ms\n",
      "1 hand, \n",
      "video 1/1 (34/44) /Users/andrewjuang/Coding/poi-detection/utility/IMG_6629.mp4: 960x544 1 hand, 125.8ms\n",
      "Speed: 0.6ms pre-process, 129.0ms inference, 0.6ms NMS per image at shape (1, 3, 960, 960)\n",
      "Results saved to \u001b[1mruns/detect/exp3\u001b[0m\n",
      "23 labels saved to runs/detect/exp3/labels\n"
     ]
    }
   ],
   "source": [
    "!python3 track.py --weights other-weights/ALL.pt --img 960 --save-txt --conf 0.5 --source ../utility/IMG_6628.MOV"
   ]
  },
  {
   "cell_type": "code",
   "execution_count": 4,
   "metadata": {},
   "outputs": [
    {
     "name": "stdout",
     "output_type": "stream",
     "text": [
      "CITATION.cff      \u001b[34mclassify\u001b[m\u001b[m/         \u001b[34mother-weights\u001b[m\u001b[m/    train.py\n",
      "CONTRIBUTING.md   \u001b[34mdata\u001b[m\u001b[m/             plot.py           tutorial.ipynb\n",
      "LICENSE           detect-poi.ipynb  requirements.txt  \u001b[34mutils\u001b[m\u001b[m/\n",
      "README.md         detect.py         \u001b[34mruns\u001b[m\u001b[m/             val.py\n",
      "README.zh-CN.md   export.py         \u001b[34msegment\u001b[m\u001b[m/          \u001b[34mweights\u001b[m\u001b[m/\n",
      "\u001b[34m__pycache__\u001b[m\u001b[m/      hubconf.py        setup.cfg         yolov5s.pt\n",
      "benchmarks.py     \u001b[34mmodels\u001b[m\u001b[m/           track.py\n"
     ]
    }
   ],
   "source": [
    "%pwd\n",
    "%ls"
   ]
  }
 ],
 "metadata": {
  "kernelspec": {
   "display_name": "myenv",
   "language": "python",
   "name": "python3"
  },
  "language_info": {
   "codemirror_mode": {
    "name": "ipython",
    "version": 3
   },
   "file_extension": ".py",
   "mimetype": "text/x-python",
   "name": "python",
   "nbconvert_exporter": "python",
   "pygments_lexer": "ipython3",
   "version": "3.11.3"
  },
  "orig_nbformat": 4
 },
 "nbformat": 4,
 "nbformat_minor": 2
}
